{
  "cells": [
    {
      "cell_type": "code",
      "execution_count": null,
      "metadata": {
        "editable": false,
        "colab": {
          "base_uri": "https://localhost:8080/"
        },
        "id": "gu-wI0MiOMH9",
        "outputId": "b3213eae-dcc9-417d-a7b8-e74a68ba0bb0"
      },
      "outputs": [
        {
          "output_type": "stream",
          "name": "stdout",
          "text": [
            "Requirement already satisfied: transformers in /usr/local/lib/python3.10/dist-packages (4.46.2)\n",
            "Requirement already satisfied: filelock in /usr/local/lib/python3.10/dist-packages (from transformers) (3.16.1)\n",
            "Requirement already satisfied: huggingface-hub<1.0,>=0.23.2 in /usr/local/lib/python3.10/dist-packages (from transformers) (0.26.2)\n",
            "Requirement already satisfied: numpy>=1.17 in /usr/local/lib/python3.10/dist-packages (from transformers) (1.26.4)\n",
            "Requirement already satisfied: packaging>=20.0 in /usr/local/lib/python3.10/dist-packages (from transformers) (24.2)\n",
            "Requirement already satisfied: pyyaml>=5.1 in /usr/local/lib/python3.10/dist-packages (from transformers) (6.0.2)\n",
            "Requirement already satisfied: regex!=2019.12.17 in /usr/local/lib/python3.10/dist-packages (from transformers) (2024.9.11)\n",
            "Requirement already satisfied: requests in /usr/local/lib/python3.10/dist-packages (from transformers) (2.32.3)\n",
            "Requirement already satisfied: safetensors>=0.4.1 in /usr/local/lib/python3.10/dist-packages (from transformers) (0.4.5)\n",
            "Requirement already satisfied: tokenizers<0.21,>=0.20 in /usr/local/lib/python3.10/dist-packages (from transformers) (0.20.3)\n",
            "Requirement already satisfied: tqdm>=4.27 in /usr/local/lib/python3.10/dist-packages (from transformers) (4.66.6)\n",
            "Requirement already satisfied: fsspec>=2023.5.0 in /usr/local/lib/python3.10/dist-packages (from huggingface-hub<1.0,>=0.23.2->transformers) (2024.10.0)\n",
            "Requirement already satisfied: typing-extensions>=3.7.4.3 in /usr/local/lib/python3.10/dist-packages (from huggingface-hub<1.0,>=0.23.2->transformers) (4.12.2)\n",
            "Requirement already satisfied: charset-normalizer<4,>=2 in /usr/local/lib/python3.10/dist-packages (from requests->transformers) (3.4.0)\n",
            "Requirement already satisfied: idna<4,>=2.5 in /usr/local/lib/python3.10/dist-packages (from requests->transformers) (3.10)\n",
            "Requirement already satisfied: urllib3<3,>=1.21.1 in /usr/local/lib/python3.10/dist-packages (from requests->transformers) (2.2.3)\n",
            "Requirement already satisfied: certifi>=2017.4.17 in /usr/local/lib/python3.10/dist-packages (from requests->transformers) (2024.8.30)\n"
          ]
        }
      ],
      "source": [
        "!pip install transformers"
      ]
    },
    {
      "cell_type": "code",
      "execution_count": null,
      "metadata": {
        "editable": false,
        "id": "44HGO3bfOMH9"
      },
      "outputs": [],
      "source": [
        "from sklearn.preprocessing import LabelEncoder\n",
        "from sklearn.model_selection import train_test_split\n",
        "from sklearn.metrics import confusion_matrix,classification_report\n",
        "from sklearn.metrics import accuracy_score,matthews_corrcoef\n",
        "from sklearn.preprocessing import LabelEncoder\n",
        "import torch\n",
        "from torch.utils.data import TensorDataset, DataLoader, RandomSampler, SequentialSampler\n",
        "import torch.nn.functional as F\n",
        "from transformers import BertTokenizer, BertConfig,AdamW, BertForSequenceClassification,get_linear_schedule_with_warmup\n",
        "import pandas as pd\n",
        "import numpy as np\n",
        "import seaborn as sns\n",
        "import matplotlib.pyplot as plt\n",
        "from tqdm import tqdm, trange, tnrange,tqdm_notebook\n",
        "import random\n",
        "import os\n",
        "import io\n",
        "import itertools"
      ]
    },
    {
      "cell_type": "code",
      "execution_count": null,
      "metadata": {
        "editable": false,
        "id": "wl2PuwllOMH9"
      },
      "outputs": [],
      "source": [
        "SEED = 19\n",
        "DeviceTypeCUDA = \"cuda\"\n",
        "DeviceTypeCPU = \"cpu\"\n",
        "random.seed(SEED)\n",
        "np.random.seed(SEED)\n",
        "device = torch.device(DeviceTypeCUDA if torch.cuda.is_available() else DeviceTypeCPU)\n",
        "n_gpu = torch.cuda.device_count()\n",
        "torch.cuda.get_device_name(0)\n",
        "torch.manual_seed(SEED)\n",
        "if device == torch.device(DeviceTypeCUDA):\n",
        "    torch.cuda.manual_seed_all(SEED)"
      ]
    },
    {
      "cell_type": "code",
      "execution_count": null,
      "metadata": {
        "editable": false,
        "execution": {
          "iopub.execute_input": "2024-10-09T04:28:55.899289Z",
          "iopub.status.busy": "2024-10-09T04:28:55.898632Z",
          "iopub.status.idle": "2024-10-09T04:28:55.974687Z",
          "shell.execute_reply": "2024-10-09T04:28:55.973977Z",
          "shell.execute_reply.started": "2024-10-09T04:28:55.899244Z"
        },
        "id": "2tGVDi9dOMH9",
        "colab": {
          "base_uri": "https://localhost:8080/"
        },
        "outputId": "0eba340b-3c8e-43de-e2cf-f5fd0d45ef0a"
      },
      "outputs": [
        {
          "output_type": "stream",
          "name": "stdout",
          "text": [
            "      label  label_enc\n",
            "0   sadness          4\n",
            "2     anger          0\n",
            "3      love          3\n",
            "6  surprise          5\n",
            "7      fear          1\n",
            "8       joy          2\n"
          ]
        }
      ],
      "source": [
        "df_train = pd.read_csv(\"/content/train.txt\", delimiter=';', header=None, names=['sentence','label'])\n",
        "df_test = pd.read_csv(\"/content/test.txt\", delimiter=';', header=None, names=['sentence','label'])\n",
        "df_val  = pd.read_csv(\"/content/val.txt\", delimiter=';', header=None, names=['sentence','label'])\n",
        "df = pd.concat([df_train,df_test,df_val])\n",
        "df['label'].unique()\n",
        "labelencoder = LabelEncoder()\n",
        "df['label_enc'] = labelencoder.fit_transform(df['label'])\n",
        "label_mapping = df[['label', 'label_enc']].drop_duplicates(keep='first')\n",
        "df.rename(columns={'label': 'label_desc', 'label_enc': 'label'}, inplace=True)\n",
        "## lexicographical order\n",
        "print(label_mapping)"
      ]
    },
    {
      "cell_type": "code",
      "execution_count": null,
      "metadata": {
        "editable": false,
        "execution": {
          "iopub.execute_input": "2024-10-09T04:28:56.049797Z",
          "iopub.status.busy": "2024-10-09T04:28:56.049278Z",
          "iopub.status.idle": "2024-10-09T04:29:12.937922Z",
          "shell.execute_reply": "2024-10-09T04:29:12.936972Z",
          "shell.execute_reply.started": "2024-10-09T04:28:56.049731Z"
        },
        "colab": {
          "base_uri": "https://localhost:8080/",
          "height": 214
        },
        "id": "68opqEwVOMH-",
        "outputId": "a6614f82-6560-478d-e01d-ae9060d8683e"
      },
      "outputs": [
        {
          "output_type": "stream",
          "name": "stdout",
          "text": [
            "label\n",
            "2    6761\n",
            "4    5797\n",
            "0    2709\n",
            "1    2373\n",
            "3    1641\n",
            "5     719\n",
            "Name: count, dtype: int64\n"
          ]
        },
        {
          "output_type": "execute_result",
          "data": {
            "text/plain": [
              "'\\nOutput Example\\nOriginal Sentence:\\nFor example: \"I feel so sad today.\"\\nTokenized and Encoded Result:\\nThe tokenizer might produce: [\"[CLS]\", \"i\", \"feel\", \"so\", \"sad\", \"today\", \".\", \"[SEP]\", 0, 0, ...].\\nEach token is mapped to a unique ID: [101, 1045, 2514, 2061, 4165, 2651, 1012, 102, 0, 0, ...].\\n[101]: [CLS] token, indicating the start of the sequence.\\n[102]: [SEP] token, marking the end of the sequence.\\n0: Padding added to make the sequence length equal to MAX_LEN.\\n'"
            ],
            "application/vnd.google.colaboratory.intrinsic+json": {
              "type": "string"
            }
          },
          "metadata": {},
          "execution_count": 23
        }
      ],
      "source": [
        "sentences = df.sentence.values\n",
        "print(df.label.value_counts())\n",
        "\n",
        "## Tokenize and Encode Sentences\n",
        "tokenizer = BertTokenizer.from_pretrained('bert-base-uncased',do_lower_case=True)\n",
        "input_ids = []\n",
        "for sentence in sentences:\n",
        "    encoded_sent = tokenizer.encode(sentence,add_special_tokens=True,max_length=128,padding='max_length')\n",
        "    input_ids.append(encoded_sent)\n",
        "labels = df.label.values\n",
        "'''\n",
        "Output Example\n",
        "Original Sentence:\n",
        "For example: \"I feel so sad today.\"\n",
        "Tokenized and Encoded Result:\n",
        "The tokenizer might produce: [\"[CLS]\", \"i\", \"feel\", \"so\", \"sad\", \"today\", \".\", \"[SEP]\", 0, 0, ...].\n",
        "Each token is mapped to a unique ID: [101, 1045, 2514, 2061, 4165, 2651, 1012, 102, 0, 0, ...].\n",
        "[101]: [CLS] token, indicating the start of the sequence.\n",
        "[102]: [SEP] token, marking the end of the sequence.\n",
        "0: Padding added to make the sequence length equal to MAX_LEN.\n",
        "'''"
      ]
    },
    {
      "cell_type": "code",
      "source": [
        "### Functionality: Initializes an empty list to store the attention mask for each sentence.\n",
        "attention_masks = []\n",
        "attention_masks = [[float(i>0) for i in seq] for seq in input_ids]\n",
        "'''\n",
        "Example:\n",
        "Suppose an input sequence is [101, 1045, 2514, 2061, 4165, 2651, 1012, 102, 0, 0, ...].\n",
        "The corresponding attention mask would be [1.0, 1.0, 1.0, 1.0, 1.0, 1.0, 1.0, 1.0, 0.0, 0.0, ...].\n",
        "'''"
      ],
      "metadata": {
        "colab": {
          "base_uri": "https://localhost:8080/",
          "height": 53
        },
        "id": "Ox6nPTWxA1Ls",
        "outputId": "a2b62f06-6913-403a-e7f8-aa4da2c9e564"
      },
      "execution_count": null,
      "outputs": [
        {
          "output_type": "execute_result",
          "data": {
            "text/plain": [
              "'\\nExample:\\nSuppose an input sequence is [101, 1045, 2514, 2061, 4165, 2651, 1012, 102, 0, 0, ...].\\nThe corresponding attention mask would be [1.0, 1.0, 1.0, 1.0, 1.0, 1.0, 1.0, 1.0, 0.0, 0.0, ...].\\n'"
            ],
            "application/vnd.google.colaboratory.intrinsic+json": {
              "type": "string"
            }
          },
          "metadata": {},
          "execution_count": 24
        }
      ]
    },
    {
      "cell_type": "markdown",
      "metadata": {
        "editable": false,
        "id": "FNRGDmy8OMH-"
      },
      "source": [
        "Dataset Preparation"
      ]
    },
    {
      "cell_type": "code",
      "execution_count": null,
      "metadata": {
        "editable": false,
        "execution": {
          "iopub.execute_input": "2024-10-09T04:29:12.967208Z",
          "iopub.status.busy": "2024-10-09T04:29:12.966397Z",
          "iopub.status.idle": "2024-10-09T04:29:16.113408Z",
          "shell.execute_reply": "2024-10-09T04:29:16.112557Z",
          "shell.execute_reply.started": "2024-10-09T04:29:12.967164Z"
        },
        "id": "9t9yeZL0OMH-"
      },
      "outputs": [],
      "source": [
        "train_inputs,validation_inputs,train_labels,validation_labels = train_test_split(input_ids,labels,random_state=41,test_size=0.1)\n",
        "train_masks,validation_masks,_,_ = train_test_split(attention_masks,input_ids,random_state=41,test_size=0.1)\n",
        "\n",
        "## splits the dataset into training and validation sets for both inputs (tokenized text) and corresponding labels, as well as their attention masks.\n",
        "\n",
        "def Converttensors(inputs, labels, masks):\n",
        "    inputs_tensor = torch.tensor(inputs)\n",
        "    labels_tensor = torch.tensor(labels)\n",
        "    masks_tensor = torch.tensor(masks)\n",
        "    return inputs_tensor, labels_tensor, masks_tensor\n",
        "\n",
        "def Getdataloader(inputs, masks, labels):\n",
        "    data = TensorDataset(inputs, masks, labels)\n",
        "    sampler = RandomSampler(data)\n",
        "    dataloader = DataLoader(data, sampler=sampler, batch_size=32)\n",
        "    return data, sampler ,dataloader\n",
        "\n",
        "train_inputs, train_labels, train_masks = Converttensors(train_inputs, train_labels, train_masks)\n",
        "validation_inputs, validation_labels, validation_masks = Converttensors(validation_inputs, validation_labels, validation_masks)\n",
        "\n",
        "train_data, train_sampler, train_dataloader = Getdataloader(train_inputs, train_masks, train_labels)\n",
        "validation_data, validation_sampler, validation_dataloader = Getdataloader(validation_inputs, validation_masks, validation_labels)\n"
      ]
    },
    {
      "cell_type": "code",
      "execution_count": null,
      "metadata": {
        "editable": false,
        "execution": {
          "iopub.execute_input": "2024-10-09T04:29:16.185207Z",
          "iopub.status.busy": "2024-10-09T04:29:16.184891Z",
          "iopub.status.idle": "2024-10-09T04:29:19.12423Z",
          "shell.execute_reply": "2024-10-09T04:29:19.123367Z",
          "shell.execute_reply.started": "2024-10-09T04:29:16.185174Z"
        },
        "colab": {
          "base_uri": "https://localhost:8080/"
        },
        "id": "CkExO4RLOMH-",
        "outputId": "e58ba248-a42c-412d-e3f8-acb7567735ac"
      },
      "outputs": [
        {
          "output_type": "stream",
          "name": "stderr",
          "text": [
            "Some weights of BertForSequenceClassification were not initialized from the model checkpoint at bert-base-uncased and are newly initialized: ['classifier.bias', 'classifier.weight']\n",
            "You should probably TRAIN this model on a down-stream task to be able to use it for predictions and inference.\n"
          ]
        }
      ],
      "source": [
        "model = BertForSequenceClassification.from_pretrained(\"bert-base-uncased\", num_labels=6).to(device)\n",
        "optimizer = torch.optim.AdamW(model.parameters(), lr=2e-5, eps=1e-8)\n",
        "scheduler = get_linear_schedule_with_warmup(optimizer, num_warmup_steps=0, num_training_steps=len(train_dataloader) * 3)\n"
      ]
    },
    {
      "cell_type": "code",
      "execution_count": null,
      "metadata": {
        "editable": false,
        "execution": {
          "iopub.execute_input": "2024-10-09T04:29:19.125871Z",
          "iopub.status.busy": "2024-10-09T04:29:19.125376Z",
          "iopub.status.idle": "2024-10-09T05:06:21.87815Z",
          "shell.execute_reply": "2024-10-09T05:06:21.877187Z",
          "shell.execute_reply.started": "2024-10-09T04:29:19.125826Z"
        },
        "colab": {
          "base_uri": "https://localhost:8080/"
        },
        "id": "GH5xDygsOMH_",
        "outputId": "331b7f0e-3cae-439a-8330-553fc2044938"
      },
      "outputs": [
        {
          "output_type": "stream",
          "name": "stderr",
          "text": [
            "\rEpoch:   0%|          | 0/3 [00:00<?, ?it/s]"
          ]
        },
        {
          "output_type": "stream",
          "name": "stdout",
          "text": [
            "<****************************** Epoch 1 ******************************>\n",
            "\n",
            "\tAverage Training Loss: 0.5536503113118094\n",
            "\n",
            "\tCurrent Learning Rate: 1.3333333333333333e-05\n"
          ]
        },
        {
          "output_type": "stream",
          "name": "stderr",
          "text": [
            "\rEpoch:  33%|███▎      | 1/3 [05:54<11:49, 354.56s/it]"
          ]
        },
        {
          "output_type": "stream",
          "name": "stdout",
          "text": [
            "\n",
            "\tValidation Accuracy: 0.9182\n",
            "\tValidation MCC Accuracy: 0.8945\n",
            "<****************************** Epoch 2 ******************************>\n",
            "\n",
            "\tAverage Training Loss: 0.14404612077734238\n",
            "\n",
            "\tCurrent Learning Rate: 6.666666666666667e-06\n"
          ]
        },
        {
          "output_type": "stream",
          "name": "stderr",
          "text": [
            "\rEpoch:  67%|██████▋   | 2/3 [11:49<05:54, 354.57s/it]"
          ]
        },
        {
          "output_type": "stream",
          "name": "stdout",
          "text": [
            "\n",
            "\tValidation Accuracy: 0.9271\n",
            "\tValidation MCC Accuracy: 0.9043\n",
            "<****************************** Epoch 3 ******************************>\n",
            "\n",
            "\tAverage Training Loss: 0.09530076226236077\n",
            "\n",
            "\tCurrent Learning Rate: 0.0\n"
          ]
        },
        {
          "output_type": "stream",
          "name": "stderr",
          "text": [
            "Epoch: 100%|██████████| 3/3 [17:45<00:00, 355.13s/it]"
          ]
        },
        {
          "output_type": "stream",
          "name": "stdout",
          "text": [
            "\n",
            "\tValidation Accuracy: 0.9261\n",
            "\tValidation MCC Accuracy: 0.9039\n"
          ]
        },
        {
          "output_type": "stream",
          "name": "stderr",
          "text": [
            "\n"
          ]
        }
      ],
      "source": [
        "train_loss_set = []\n",
        "learning_rate = []\n",
        "model.zero_grad()\n",
        "epochs = 3\n",
        "\n",
        "\n",
        "def LogEpochStatistics(optimizer, avg_train_loss, train_loss_set, learning_rate):\n",
        "    print(f\"\\n\\tAverage Training Loss: {avg_train_loss}\")\n",
        "    train_loss_set.append(avg_train_loss)\n",
        "    for param_group in optimizer.param_groups:\n",
        "        current_lr = param_group['lr']\n",
        "        print(f\"\\n\\tCurrent Learning Rate: {current_lr}\")\n",
        "        learning_rate.append(current_lr)\n",
        "\n",
        "\n",
        "for _ in trange(1, epochs + 1, desc='Epoch'):\n",
        "  print(\"<\" + \"*\"*30 + F\" Epoch {_} \" + \"*\"*30 + \">\")\n",
        "  batch_loss = 0\n",
        "\n",
        "  for step, batch in enumerate(train_dataloader):\n",
        "    model.train()\n",
        "    batch = tuple(t.to(device) for t in batch)\n",
        "    b_input_ids, b_input_mask, b_labels = batch\n",
        "    outputs = model(b_input_ids, token_type_ids=None, attention_mask=b_input_mask, labels=b_labels)\n",
        "    loss = outputs[0]\n",
        "    loss.backward()\n",
        "    torch.nn.utils.clip_grad_norm_(model.parameters(), 1.0)\n",
        "    optimizer.step()\n",
        "    scheduler.step()\n",
        "    optimizer.zero_grad()\n",
        "    batch_loss += loss.item()\n",
        "\n",
        "  LogEpochStatistics(optimizer, batch_loss / len(train_dataloader), train_loss_set, learning_rate)\n",
        "\n",
        "  model.eval()\n",
        "\n",
        "  eval_accuracy = 0\n",
        "  eval_mcc_accuracy = 0\n",
        "  nb_eval_steps = 0\n",
        "\n",
        "  for batch in validation_dataloader:\n",
        "    batch = tuple(t.to(device) for t in batch)\n",
        "    b_input_ids, b_input_mask, b_labels = batch\n",
        "    with torch.no_grad():\n",
        "      logits = model(b_input_ids, token_type_ids=None, attention_mask=b_input_mask)\n",
        "    logits = logits[0].to('cpu').numpy()\n",
        "    label_ids = b_labels.to('cpu').numpy()\n",
        "    pred_flat = np.argmax(logits, axis=1).flatten()\n",
        "    labels_flat = label_ids.flatten()\n",
        "    df_metrics=pd.DataFrame({'Epoch':epochs,'Actual_class':labels_flat,'Predicted_class':pred_flat})\n",
        "    tmp_eval_accuracy = accuracy_score(labels_flat,pred_flat)\n",
        "    tmp_eval_mcc_accuracy = matthews_corrcoef(labels_flat, pred_flat)\n",
        "    eval_accuracy += tmp_eval_accuracy\n",
        "    eval_mcc_accuracy += tmp_eval_mcc_accuracy\n",
        "    nb_eval_steps += 1\n",
        "\n",
        "  avg_eval_accuracy = eval_accuracy / nb_eval_steps\n",
        "  avg_eval_mcc_accuracy = eval_mcc_accuracy / nb_eval_steps\n",
        "\n",
        "\n",
        "  validation_metrics = (f\"\\n\\tValidation Accuracy: {avg_eval_accuracy:.4f}\\n\" f\"\\tValidation MCC Accuracy: {avg_eval_mcc_accuracy:.4f}\")\n",
        "  print(validation_metrics)"
      ]
    },
    {
      "cell_type": "code",
      "execution_count": null,
      "metadata": {
        "editable": false,
        "execution": {
          "iopub.execute_input": "2024-10-09T05:06:21.914825Z",
          "iopub.status.busy": "2024-10-09T05:06:21.91452Z",
          "iopub.status.idle": "2024-10-09T05:06:21.919193Z",
          "shell.execute_reply": "2024-10-09T05:06:21.918142Z",
          "shell.execute_reply.started": "2024-10-09T05:06:21.914787Z"
        },
        "id": "SwXdRfz7OMH_",
        "colab": {
          "base_uri": "https://localhost:8080/"
        },
        "outputId": "978013fa-2b12-41c5-f620-e60fb2caf805"
      },
      "outputs": [
        {
          "output_type": "stream",
          "name": "stdout",
          "text": [
            "              precision    recall  f1-score   support\n",
            "\n",
            "     sadness   0.750000  1.000000  0.857143         3\n",
            "         joy   1.000000  1.000000  1.000000         1\n",
            "       anger   0.666667  0.666667  0.666667         3\n",
            "        love   1.000000  0.500000  0.666667         2\n",
            "        fear   1.000000  0.857143  0.923077         7\n",
            "    surprise   0.000000  0.000000  0.000000         0\n",
            "\n",
            "    accuracy                       0.812500        16\n",
            "   macro avg   0.736111  0.670635  0.685592        16\n",
            "weighted avg   0.890625  0.812500  0.835394        16\n",
            "\n"
          ]
        },
        {
          "output_type": "stream",
          "name": "stderr",
          "text": [
            "/usr/local/lib/python3.10/dist-packages/sklearn/metrics/_classification.py:1531: UndefinedMetricWarning: Recall is ill-defined and being set to 0.0 in labels with no true samples. Use `zero_division` parameter to control this behavior.\n",
            "  _warn_prf(average, modifier, f\"{metric.capitalize()} is\", len(result))\n",
            "/usr/local/lib/python3.10/dist-packages/sklearn/metrics/_classification.py:1531: UndefinedMetricWarning: Recall is ill-defined and being set to 0.0 in labels with no true samples. Use `zero_division` parameter to control this behavior.\n",
            "  _warn_prf(average, modifier, f\"{metric.capitalize()} is\", len(result))\n",
            "/usr/local/lib/python3.10/dist-packages/sklearn/metrics/_classification.py:1531: UndefinedMetricWarning: Recall is ill-defined and being set to 0.0 in labels with no true samples. Use `zero_division` parameter to control this behavior.\n",
            "  _warn_prf(average, modifier, f\"{metric.capitalize()} is\", len(result))\n"
          ]
        }
      ],
      "source": [
        "df[['label','label_desc']].drop_duplicates(keep='first')\n",
        "label2int = {\n",
        "  \"sadness\": 4,\n",
        "  \"joy\": 2,\n",
        "  \"anger\": 0,\n",
        "    \"love\":3,\n",
        "  \"fear\": 1,\n",
        "  \"surprise\": 5\n",
        "}\n",
        "df_metrics['Predicted_class'].unique()\n",
        "print(classification_report(df_metrics['Actual_class'].values, df_metrics['Predicted_class'].values, target_names=label2int.keys(), digits=len(label2int)))"
      ]
    },
    {
      "cell_type": "code",
      "execution_count": null,
      "metadata": {
        "editable": false,
        "execution": {
          "iopub.execute_input": "2024-10-09T05:06:21.950073Z",
          "iopub.status.busy": "2024-10-09T05:06:21.949762Z",
          "iopub.status.idle": "2024-10-09T05:06:22.598276Z",
          "shell.execute_reply": "2024-10-09T05:06:22.597417Z",
          "shell.execute_reply.started": "2024-10-09T05:06:21.950039Z"
        },
        "colab": {
          "base_uri": "https://localhost:8080/",
          "height": 1000
        },
        "id": "mTCWb5yZOMH_",
        "outputId": "3abd248b-0c6e-4f65-9422-dbe6d7556017"
      },
      "outputs": [
        {
          "output_type": "display_data",
          "data": {
            "text/plain": [
              "<Figure size 1000x600 with 1 Axes>"
            ],
            "image/png": "[encoded data removed]"
          },
          "metadata": {}
        },
        {
          "output_type": "display_data",
          "data": {
            "text/plain": [
              "<Figure size 1000x600 with 1 Axes>"
            ],
            "image/png": "[encoded data removed]"
          },
          "metadata": {}
        }
      ],
      "source": [
        "def PltTrainResult(data, label, xlabel, ylabel, title):\n",
        "    plt.figure(figsize=(10, 6))\n",
        "    plt.plot(data, label=title, color=\"orange\", linestyle=\"-\", marker=\"o\", linewidth=2)\n",
        "    plt.xlabel(\"Epoch\", fontsize=12)\n",
        "    plt.ylabel(\"Loss\", fontsize=12)\n",
        "    plt.title(title, fontsize=14, fontweight=\"bold\")\n",
        "    plt.grid(alpha=0.3, linestyle=\"--\")\n",
        "    plt.legend(loc=\"upper right\", fontsize=10, frameon=True, shadow=True)\n",
        "    plt.tight_layout()\n",
        "    plt.show()\n",
        "\n",
        "PltTrainResult(train_loss_set, \"Training loss\", \"Epoch\", \"Loss\", \"Training Loss Over Epochs\")\n",
        "PltTrainResult(learning_rate, \"Learning rate\", \"Step\", \"Learning Rate\", \"Learning Rate Over Time\")"
      ]
    },
    {
      "cell_type": "code",
      "source": [
        "def SaveModel(model, tokenizer, output_dir):\n",
        "    if not os.path.exists(output_dir):\n",
        "        os.makedirs(output_dir)\n",
        "    model_to_save = model.module if hasattr(model, 'module') else model\n",
        "    model_to_save.save_pretrained(output_dir)\n",
        "    tokenizer.save_pretrained(output_dir)\n",
        "\n",
        "def LoadModel(output_dir, device):\n",
        "    tokenizer = BertTokenizer.from_pretrained(output_dir)\n",
        "    model = BertForSequenceClassification.from_pretrained(output_dir)\n",
        "    model.to(device)\n",
        "    model.eval()\n",
        "    return model, tokenizer\n",
        "\n",
        "\n",
        "output_dir = '/working/bert_emotion_model/'\n",
        "device = torch.device(DeviceTypeCUDA if torch.cuda.is_available() else DeviceTypeCPU)\n",
        "\n",
        "\n",
        "SaveModel(model, tokenizer, output_dir)\n",
        "\n",
        "\n",
        "model, tokenizer = LoadModel(output_dir, device)\n"
      ],
      "metadata": {
        "id": "huURPAjkRE5m"
      },
      "execution_count": null,
      "outputs": []
    },
    {
      "cell_type": "code",
      "source": [
        "def predict_emotion(text, model, tokenizer, max_len=128):\n",
        "    inputs = tokenizer.encode_plus(text,add_special_tokens=True,max_length=max_len,padding='max_length',return_attention_mask=True,truncation=True,return_tensors='pt')\n",
        "    input_ids = inputs['input_ids'].to(device)\n",
        "    attention_mask = inputs['attention_mask'].to(device)\n",
        "    with torch.no_grad():\n",
        "        outputs = model(input_ids, attention_mask=attention_mask)\n",
        "    logits = outputs.logits\n",
        "    probabilities = torch.softmax(logits, dim=1)\n",
        "    predicted_class = torch.argmax(probabilities, dim=1).item()\n",
        "    return predicted_class, probabilities[0].cpu().numpy()"
      ],
      "metadata": {
        "id": "kJXO1OvGTTB4"
      },
      "execution_count": null,
      "outputs": []
    },
    {
      "cell_type": "code",
      "source": [
        "emotion_labels = ['anger', 'fear', 'joy', 'love','sadness', 'surprise']"
      ],
      "metadata": {
        "id": "bvchqzDITYdy"
      },
      "execution_count": null,
      "outputs": []
    },
    {
      "cell_type": "code",
      "execution_count": null,
      "metadata": {
        "editable": false,
        "execution": {
          "iopub.execute_input": "2024-10-09T05:06:22.59992Z",
          "iopub.status.busy": "2024-10-09T05:06:22.599596Z",
          "iopub.status.idle": "2024-10-09T05:06:24.242757Z",
          "shell.execute_reply": "2024-10-09T05:06:24.241816Z",
          "shell.execute_reply.started": "2024-10-09T05:06:22.599886Z"
        },
        "colab": {
          "base_uri": "https://localhost:8080/"
        },
        "id": "V50IuaerOMH_",
        "outputId": "637bedef-75d7-4800-b447-856f5338f15e"
      },
      "outputs": [
        {
          "output_type": "stream",
          "name": "stdout",
          "text": [
            "Predicted Emotion: joy\n",
            "Probabilities: [2.3842156e-04 2.5150127e-04 9.9801981e-01 7.1476458e-04 4.2176983e-04\n",
            " 3.5368939e-04]\n"
          ]
        }
      ],
      "source": [
        "text = \"I'm feeling so happy today!\"\n",
        "predicted_class, probs = predict_emotion(text, model, tokenizer)\n",
        "print(f'Predicted Emotion: {emotion_labels[predicted_class]}')\n",
        "print(f'Probabilities: {probs}')"
      ]
    }
  ],
  "metadata": {
    "kaggle": {
      "accelerator": "nvidiaTeslaT4",
      "dataSources": [
        {
          "datasetId": 605165,
          "sourceId": 1085454,
          "sourceType": "datasetVersion"
        },
        {
          "datasetId": 1590810,
          "sourceId": 2617192,
          "sourceType": "datasetVersion"
        }
      ],
      "dockerImageVersionId": 30786,
      "isGpuEnabled": true,
      "isInternetEnabled": false,
      "language": "python",
      "sourceType": "notebook"
    },
    "kernelspec": {
      "display_name": "Python 3",
      "name": "python3"
    },
    "language_info": {
      "codemirror_mode": {
        "name": "ipython",
        "version": 3
      },
      "file_extension": ".py",
      "mimetype": "text/x-python",
      "name": "python",
      "nbconvert_exporter": "python",
      "pygments_lexer": "ipython3",
      "version": "3.12.4"
    },
    "colab": {
      "provenance": [],
      "gpuType": "T4"
    },
    "accelerator": "GPU"
  },
  "nbformat": 4,
  "nbformat_minor": 0
}